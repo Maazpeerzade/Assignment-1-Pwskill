{
 "cells": [
  {
   "cell_type": "markdown",
   "id": "d42ad413-81d8-4987-a192-8cf5948ec44e",
   "metadata": {},
   "source": [
    "#Q1:Explain with an example each when to use a for loop and a while loop.\n",
    "#Ans:\n",
    "The for loop is used when we know the number of iterations, that is, how many times a statement must be executed. That is why, when we initialize the for loop, we must define the ending point.\n",
    "\n",
    "A while loop is used when the number of iterations is unknown. It is used when we need to end the loop on a condition other than the number of repetitions. It is not necessary to know the condition ahead of time in this case. That is why we can use a boolean expression in the loop's initialization."
   ]
  },
  {
   "cell_type": "code",
   "execution_count": 1,
   "id": "8273af7f-7bdf-4d73-aa27-c3e73cf4737b",
   "metadata": {},
   "outputs": [
    {
     "name": "stdout",
     "output_type": "stream",
     "text": [
      "Maaz\n",
      "Danish\n"
     ]
    }
   ],
   "source": [
    "l1=['Maaz', 'Danish', 'Umar', 'Peerzade']\n",
    "for i in l1:\n",
    "    if i=='Umar':\n",
    "        break\n",
    "    print(i)\n",
    "else:\n",
    "    print(\"If loop is able to complete itself then only else will be executed\")"
   ]
  },
  {
   "cell_type": "code",
   "execution_count": 3,
   "id": "fa808753-bec5-4d7a-a46c-ba07da4d561e",
   "metadata": {},
   "outputs": [
    {
     "name": "stdin",
     "output_type": "stream",
     "text": [
      "Enter the Number:-  10\n"
     ]
    },
    {
     "name": "stdout",
     "output_type": "stream",
     "text": [
      "1\n",
      "2\n",
      "3\n",
      "4\n",
      "5\n",
      "6\n",
      "7\n",
      "8\n",
      "9\n",
      "10\n"
     ]
    }
   ],
   "source": [
    "n=int(input(\"Enter the Number:- \"))\n",
    "a=1\n",
    "while a<=n:\n",
    "    print(a)\n",
    "    a=a+1"
   ]
  },
  {
   "cell_type": "code",
   "execution_count": 4,
   "id": "6b9b7606-90c2-4aa1-bf4b-82d8407d5fe1",
   "metadata": {},
   "outputs": [],
   "source": [
    "#Q: "
   ]
  },
  {
   "cell_type": "code",
   "execution_count": 12,
   "id": "ceb10e8f-0fa2-43af-b129-befe05e0e2f2",
   "metadata": {},
   "outputs": [
    {
     "name": "stdout",
     "output_type": "stream",
     "text": [
      "Sum of first 10 natural numbers using for loop: 55\n"
     ]
    }
   ],
   "source": [
    "# Printing the sum of the first 10 natural numbers using for loop\n",
    "sum = 0\n",
    "for i in range(1,11):\n",
    "    sum=sum+i\n",
    "print(\"Sum of first 10 natural numbers using for loop:\", sum)\n"
   ]
  },
  {
   "cell_type": "code",
   "execution_count": 13,
   "id": "89e0b64e-0005-49a9-94b1-61b5a3ec1ec8",
   "metadata": {},
   "outputs": [
    {
     "name": "stdout",
     "output_type": "stream",
     "text": [
      "Product of first 10 natural numbers using for loop: 3628800\n"
     ]
    }
   ],
   "source": [
    "# Printing the product of the first 10 natural numbers using for loop\n",
    "product = 1\n",
    "for i in range(1,11):\n",
    "    product=product*i\n",
    "print(\"Product of first 10 natural numbers using for loop:\", product)"
   ]
  },
  {
   "cell_type": "code",
   "execution_count": 1,
   "id": "2c9c831d-dae4-4e87-a9a8-3265c20f4fe2",
   "metadata": {},
   "outputs": [
    {
     "name": "stdin",
     "output_type": "stream",
     "text": [
      "Enter units of electricity consumed:- 310\n"
     ]
    },
    {
     "name": "stdout",
     "output_type": "stream",
     "text": [
      "Total electricity bill: 2250.0\n"
     ]
    }
   ],
   "source": [
    "#Q : Create a python program to compute the electricity bill for a household.\n",
    "\n",
    "#The per-unit charges in rupees are as follows: For the first 100 units, the user will be charged Rs. 4.5 per\n",
    "#unit, for the next 100 units, the user will be charged Rs. 6 per unit, and for the next 100 units, the user will\n",
    "#be charged Rs. 10 per unit, After 300 units and above the user will be charged Rs. 20 per unit.\n",
    "#You are required to take the units of electricity consumed in a month from the user as input.\n",
    "#Your program must pass this test case: when the unit of electricity consumed by the user in a month is\n",
    "#310, the total electricity bill should be 2250.\n",
    "\n",
    "# take input of units consumed from user\n",
    "units_consumed = int(input(\"Enter units of electricity consumed:-\"))\n",
    "\n",
    "# initialize total bill amount to 0\n",
    "total_bill = 0\n",
    "\n",
    "# calculate bill based on number of units consumed\n",
    "if units_consumed <= 100:\n",
    "    total_bill = units_consumed * 4.5\n",
    "elif units_consumed <= 200:\n",
    "    total_bill = 100 * 4.5 + (units_consumed - 100) * 6\n",
    "elif units_consumed <= 300:\n",
    "    total_bill = 100 * 4.5 + 100 * 6 + (units_consumed - 200) * 10\n",
    "else:\n",
    "    total_bill = 100 * 4.5 + 100 * 6 + 100 * 10 + (units_consumed - 300) * 20\n",
    "\n",
    "# print the total bill amount\n",
    "print(\"Total electricity bill:\", total_bill)\n"
   ]
  },
  {
   "cell_type": "code",
   "execution_count": 2,
   "id": "e0a4252e-fae9-4681-b3dd-9831c48f3486",
   "metadata": {},
   "outputs": [
    {
     "name": "stdout",
     "output_type": "stream",
     "text": [
      "[2, 4, 5, 6, 8, 10, 12, 14, 15, 16, 18, 20, 22, 24, 25, 26, 28, 30, 32, 34, 35, 36, 38, 40, 42, 44, 45, 46, 48, 50, 52, 54, 55, 56, 58, 60, 62, 64, 65, 66, 68, 70, 72, 74, 75, 76, 78, 80, 82, 84, 85, 86, 88, 90, 92, 94, 95, 96, 98, 100]\n"
     ]
    }
   ],
   "source": [
    "#Q4. Create a list of numbers from 1 to 100. Use for loop and while loop to calculate the cube of each\n",
    "#number and if the cube of that number is divisible by 4 or 5 then append that number in a list and print\n",
    "#that list.\n",
    "\n",
    "# create an empty list to store the numbers\n",
    "numbers_list = []\n",
    "\n",
    "# use for loop to iterate from 1 to 100\n",
    "for i in range(1, 101):\n",
    "    # calculate cube of the number\n",
    "    cube = i ** 3\n",
    "    # check if cube is divisible by 4 or 5\n",
    "    if cube % 4 == 0 or cube % 5 == 0:\n",
    "        # append number to the list\n",
    "        numbers_list.append(i)\n",
    "\n",
    "# print the list of numbers\n",
    "print(numbers_list)\n"
   ]
  },
  {
   "cell_type": "code",
   "execution_count": 3,
   "id": "79b04e14-b936-4989-bdb6-6d1978e94712",
   "metadata": {},
   "outputs": [
    {
     "name": "stdout",
     "output_type": "stream",
     "text": [
      "[2, 4, 5, 6, 8, 10, 12, 14, 15, 16, 18, 20, 22, 24, 25, 26, 28, 30, 32, 34, 35, 36, 38, 40, 42, 44, 45, 46, 48, 50, 52, 54, 55, 56, 58, 60, 62, 64, 65, 66, 68, 70, 72, 74, 75, 76, 78, 80, 82, 84, 85, 86, 88, 90, 92, 94, 95, 96, 98, 100]\n"
     ]
    }
   ],
   "source": [
    "# Using While loop\n",
    "# create an empty list to store the numbers\n",
    "numbers_list = []\n",
    "\n",
    "# initialize counter variable to 1\n",
    "i = 1\n",
    "\n",
    "# use while loop to iterate from 1 to 100\n",
    "while i <= 100:\n",
    "    # calculate cube of the number\n",
    "    cube = i ** 3\n",
    "    # check if cube is divisible by 4 or 5\n",
    "    if cube % 4 == 0 or cube % 5 == 0:\n",
    "        # append number to the list\n",
    "        numbers_list.append(i)\n",
    "    # increment counter variable\n",
    "    i += 1\n",
    "\n",
    "# print the list of numbers\n",
    "print(numbers_list)\n"
   ]
  },
  {
   "cell_type": "code",
   "execution_count": null,
   "id": "005226ee-c608-4179-9990-bbd1bb1808b3",
   "metadata": {},
   "outputs": [],
   "source": [
    "#Q5 Write a program to filter count vowels in the below-given string.\n",
    "# string = \"I want to become a data scientist\"\n",
    "\n",
    "# define a function to count vowels in a string\n",
    "def count_vowels(string):\n",
    "    # define a set of vowels\n",
    "    vowels = {'a', 'e', 'i', 'o', 'u'}\n",
    "    # initialize count variable to 0\n",
    "    count = 0\n",
    "    # loop through each character in the string\n",
    "    for char in string:\n",
    "        # check if the character is a vowel\n",
    "        if char.lower() in vowels:\n",
    "            # increment the count variable\n",
    "            count += 1\n",
    "    # return the count of vowels\n",
    "    return count\n",
    "\n",
    "# test the function with the given string\n",
    "string = \"I want to become a data scientist\"\n",
    "num_vowels = count_vowels(string)\n",
    "print(\"Number of vowels in the string:\", num_vowels)\n"
   ]
  }
 ],
 "metadata": {
  "kernelspec": {
   "display_name": "Python 3 (ipykernel)",
   "language": "python",
   "name": "python3"
  },
  "language_info": {
   "codemirror_mode": {
    "name": "ipython",
    "version": 3
   },
   "file_extension": ".py",
   "mimetype": "text/x-python",
   "name": "python",
   "nbconvert_exporter": "python",
   "pygments_lexer": "ipython3",
   "version": "3.10.8"
  }
 },
 "nbformat": 4,
 "nbformat_minor": 5
}
